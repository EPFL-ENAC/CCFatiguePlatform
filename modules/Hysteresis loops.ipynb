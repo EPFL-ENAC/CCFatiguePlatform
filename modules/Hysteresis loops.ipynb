{
 "cells": [
  {
   "cell_type": "code",
   "execution_count": 1,
   "metadata": {},
   "outputs": [],
   "source": [
    "import matplotlib.pyplot as plt\n",
    "import os\n",
    "import pandas as pd\n",
    "import numpy as np\n",
    "import bokeh as bk\n",
    "from collections import Counter\n"
   ]
  },
  {
   "cell_type": "code",
   "execution_count": 2,
   "metadata": {
    "scrolled": true
   },
   "outputs": [
    {
     "name": "stdout",
     "output_type": "stream",
     "text": [
      "       Machine_Displacement  Machine_N_cycles  DIC_index  DIC_N_cycles  \\\n",
      "0                  0.001037               1.0        NaN           NaN   \n",
      "1                  0.001262               1.0        NaN           NaN   \n",
      "2                  0.001392               1.0        NaN           NaN   \n",
      "3                  0.001506               1.0        NaN           NaN   \n",
      "4                  0.001541               1.0        NaN           NaN   \n",
      "...                     ...               ...        ...           ...   \n",
      "29895              0.009387         1197000.0        NaN           NaN   \n",
      "29896              0.009945         1197000.0        NaN           NaN   \n",
      "29897              0.010576         1197000.0        NaN           NaN   \n",
      "29898              0.011272         1197000.0        NaN           NaN   \n",
      "29899              0.011516         1197000.0        NaN           NaN   \n",
      "\n",
      "       DIC_exy  DIC_exx  DIC_crack_length  Th_time  DIC_eyy  Th_specimen_max  \\\n",
      "0          NaN      NaN               NaN      NaN      NaN              NaN   \n",
      "1          NaN      NaN               NaN      NaN      NaN              NaN   \n",
      "2          NaN      NaN               NaN      NaN      NaN              NaN   \n",
      "3          NaN      NaN               NaN      NaN      NaN              NaN   \n",
      "4          NaN      NaN               NaN      NaN      NaN              NaN   \n",
      "...        ...      ...               ...      ...      ...              ...   \n",
      "29895      NaN      NaN               NaN      NaN      NaN              NaN   \n",
      "29896      NaN      NaN               NaN      NaN      NaN              NaN   \n",
      "29897      NaN      NaN               NaN      NaN      NaN              NaN   \n",
      "29898      NaN      NaN               NaN      NaN      NaN              NaN   \n",
      "29899      NaN      NaN               NaN      NaN      NaN              NaN   \n",
      "\n",
      "       Th_N_cycles  Th_specimen_mean  Th_uppergrips  Th_lowergrips  \\\n",
      "0              NaN               NaN            NaN            NaN   \n",
      "1              NaN               NaN            NaN            NaN   \n",
      "2              NaN               NaN            NaN            NaN   \n",
      "3              NaN               NaN            NaN            NaN   \n",
      "4              NaN               NaN            NaN            NaN   \n",
      "...            ...               ...            ...            ...   \n",
      "29895          NaN               NaN            NaN            NaN   \n",
      "29896          NaN               NaN            NaN            NaN   \n",
      "29897          NaN               NaN            NaN            NaN   \n",
      "29898          NaN               NaN            NaN            NaN   \n",
      "29899          NaN               NaN            NaN            NaN   \n",
      "\n",
      "       Machine_Load  Th_chamber  \n",
      "0         30.061123         NaN  \n",
      "1         38.693064         NaN  \n",
      "2         42.299560         NaN  \n",
      "3         44.900967         NaN  \n",
      "4         46.792899         NaN  \n",
      "...             ...         ...  \n",
      "29895     15.043910         NaN  \n",
      "29896     18.946021         NaN  \n",
      "29897     22.138657         NaN  \n",
      "29898     27.282348         NaN  \n",
      "29899     28.583051         NaN  \n",
      "\n",
      "[29900 rows x 16 columns]\n"
     ]
    }
   ],
   "source": [
    "### Import data\n",
    "\n",
    "data_dir = '/Users/scottmatthewssalmon/Desktop/github/CCFatigue/Outputs'\n",
    "filename = 'Vahid_std.csv'\n",
    "filepath = os.path.join(data_dir,filename)\n",
    "\n",
    "df = pd.read_csv(filepath)\n",
    "#print(df)"
   ]
  },
  {
   "cell_type": "code",
   "execution_count": 59,
   "metadata": {},
   "outputs": [],
   "source": [
    "### Extract number of cycles without repeating values in other table, and store number of measurements per cycle\n",
    "\n",
    "n_cycles = sorted(set(df.Machine_N_cycles))\n",
    "n_measurements = Counter(df.Machine_N_cycles)  \n",
    "\n",
    "\n",
    "#print(n_cycles)\n",
    "#print(n_measurements)\n",
    "n_cycles_df = pd.DataFrame(n_cycles)\n",
    "n_cycles_df.to_csv(path_or_buf='/Users/scottmatthewssalmon/Desktop/github/CCFatigue/Outputs/Vahid_n_cycles.csv', index=False)\n",
    "\n",
    "\n"
   ]
  },
  {
   "cell_type": "code",
   "execution_count": 4,
   "metadata": {},
   "outputs": [],
   "source": [
    "### Isolate Stress/Strain values for each cycles\n",
    "\n",
    "\n",
    "Stress_N = []\n",
    "Strain_N = []\n",
    "df0=np.array(df)\n",
    "for k in range(len(n_cycles)):\n",
    "    Stress_N.append([df0[i,14] for i in range(df0.shape[0]) if df0[i,1]==n_cycles[k]])\n",
    "    Strain_N.append([df0[i,0] for i in range(df0.shape[0]) if df0[i,1]==n_cycles[k]])\n",
    "    \n",
    "    \n",
    "#print(Stress_N)\n",
    "#print(Strain_N)\n",
    "#print(len(Stress_N))"
   ]
  },
  {
   "cell_type": "code",
   "execution_count": 5,
   "metadata": {},
   "outputs": [],
   "source": [
    "### Definition of polyarea and stiffness\n",
    "def PolyArea(x,y):\n",
    "    return 0.5*np.abs(np.dot(x,np.roll(y,1))-np.dot(y,np.roll(x,1)))\n"
   ]
  },
  {
   "cell_type": "code",
   "execution_count": 56,
   "metadata": {},
   "outputs": [],
   "source": [
    "### Hysteresis loops area computation\n",
    "\n",
    "Hysteresis_Area = []\n",
    "Stiffness = []\n",
    "\n",
    "for j in range(len(n_cycles)):\n",
    "    x=Stress_N[j]\n",
    "    y=Strain_N[j]\n",
    "    points=(x, y)\n",
    "    Hysteresis_Area.append(PolyArea(x, y))\n",
    "    #Stress_min = np.min\n",
    "\n",
    "\n",
    "hyst_df = pd.DataFrame(Hysteresis_Area)\n",
    "hyst_df.to_csv(path_or_buf='/Users/scottmatthewssalmon/Desktop/github/CCFatigue/Outputs/Vahid_hystarea.csv', index=False)\n",
    "\n",
    "#print(pgon.area)"
   ]
  },
  {
   "cell_type": "code",
   "execution_count": 57,
   "metadata": {},
   "outputs": [],
   "source": [
    "### Stiffness computation\n",
    "\n",
    "\n",
    "Stress_max = [np.max(Stress_N[i]) for i in range(1,len(n_cycles))]\n",
    "Stress_min = [np.min(Stress_N[i]) for i in range(1,len(n_cycles))]\n",
    "Strain_max = [np.max(Strain_N[i]) for i in range(1,len(n_cycles))]\n",
    "Strain_min = [np.min(Strain_N[i]) for i in range(1,len(n_cycles))]\n",
    "                    \n",
    "Stiffness = []\n",
    "\n",
    "for i in range(len(n_cycles)-1):\n",
    "    dStress = Stress_max[i]-Stress_min[i]\n",
    "    dStrain = Strain_max[i]-Strain_min[i]\n",
    "    Stiffness.append(dStress/dStrain)\n",
    "\n",
    "    \n",
    "stif_df = pd.DataFrame(Stiffness)\n",
    "stif_df.to_csv(path_or_buf='/Users/scottmatthewssalmon/Desktop/github/CCFatigue/Outputs/Vahid_stiff.csv', index=False)"
   ]
  },
  {
   "cell_type": "code",
   "execution_count": 52,
   "metadata": {},
   "outputs": [],
   "source": [
    "#print(Stiffness)"
   ]
  },
  {
   "cell_type": "code",
   "execution_count": null,
   "metadata": {},
   "outputs": [],
   "source": []
  },
  {
   "cell_type": "code",
   "execution_count": null,
   "metadata": {},
   "outputs": [],
   "source": []
  }
 ],
 "metadata": {
  "kernelspec": {
   "display_name": "Python 3",
   "language": "python",
   "name": "python3"
  },
  "language_info": {
   "codemirror_mode": {
    "name": "ipython",
    "version": 3
   },
   "file_extension": ".py",
   "mimetype": "text/x-python",
   "name": "python",
   "nbconvert_exporter": "python",
   "pygments_lexer": "ipython3",
   "version": "3.7.4"
  }
 },
 "nbformat": 4,
 "nbformat_minor": 2
}
