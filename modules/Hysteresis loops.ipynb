{
 "cells": [
  {
   "cell_type": "code",
   "execution_count": 1,
   "metadata": {},
   "outputs": [],
   "source": [
    "import matplotlib.pyplot as plt\n",
    "import os\n",
    "import pandas as pd\n",
    "import numpy as np\n",
    "import bokeh as bk\n",
    "from collections import Counter\n"
   ]
  },
  {
   "cell_type": "code",
   "execution_count": 2,
   "metadata": {
    "scrolled": true
   },
   "outputs": [],
   "source": [
    "### Import data\n",
    "\n",
    "data_dir = '/Users/scottmatthewssalmon/Desktop/github/CCFatigue/Outputs'\n",
    "filename = 'Vahid_std.csv'\n",
    "filepath = os.path.join(data_dir,filename)\n",
    "\n",
    "df = pd.read_csv(filepath)\n",
    "#print(df)"
   ]
  },
  {
   "cell_type": "code",
   "execution_count": 3,
   "metadata": {},
   "outputs": [],
   "source": [
    "hyst_col = {'n_cycles', 'hysteresis_area', 'stiffness'}\n",
    "hyst_df = pd.DataFrame(columns = hyst_col)\n",
    "#hyst_df.n_cycles = n_cycles\n"
   ]
  },
  {
   "cell_type": "code",
   "execution_count": 4,
   "metadata": {},
   "outputs": [],
   "source": [
    "### Extract number of cycles without repeating values in other table, and store number of measurements per cycle\n",
    "\n",
    "n_cycles = sorted(set(df.Machine_N_cycles))\n",
    "n_measurements = Counter(df.Machine_N_cycles)  \n",
    "\n",
    "\n",
    "#print(n_cycles)\n",
    "#print(n_measurements)\n",
    "n_cycles_df = pd.DataFrame(n_cycles)\n",
    "#n_cycles_df.to_csv(path_or_buf='/Users/scottmatthewssalmon/Desktop/github/CCFatigue/Outputs/Vahid_n_cycles.csv', index=False)\n",
    "\n",
    "hyst_df.n_cycles = n_cycles\n",
    "\n"
   ]
  },
  {
   "cell_type": "code",
   "execution_count": 5,
   "metadata": {},
   "outputs": [],
   "source": [
    "### Isolate Stress/Strain values for each cycles\n",
    "\n",
    "\n",
    "Stress_N = []\n",
    "Strain_N = []\n",
    "df0=np.array(df)\n",
    "for k in range(len(n_cycles)):\n",
    "    Stress_N.append([df0[i,14] for i in range(df0.shape[0]) if df0[i,1]==n_cycles[k]])\n",
    "    Strain_N.append([df0[i,0] for i in range(df0.shape[0]) if df0[i,1]==n_cycles[k]])\n",
    "    \n",
    "    \n",
    "#print(Stress_N)\n",
    "#print(Strain_N)\n",
    "#print(len(Stress_N))"
   ]
  },
  {
   "cell_type": "code",
   "execution_count": 6,
   "metadata": {},
   "outputs": [],
   "source": [
    "### Definition of polyarea and stiffness\n",
    "def PolyArea(x,y):\n",
    "    return 0.5*np.abs(np.dot(x,np.roll(y,1))-np.dot(y,np.roll(x,1)))\n"
   ]
  },
  {
   "cell_type": "code",
   "execution_count": 7,
   "metadata": {},
   "outputs": [],
   "source": [
    "### Hysteresis loops area computation\n",
    "\n",
    "Hysteresis_Area = []\n",
    "Stiffness = []\n",
    "\n",
    "for j in range(len(n_cycles)):\n",
    "    x=Stress_N[j]\n",
    "    y=Strain_N[j]\n",
    "    points=(x, y)\n",
    "    Hysteresis_Area.append(PolyArea(x, y))\n",
    "    #Stress_min = np.min\n",
    "\n",
    "\n",
    "hyst_df.hysteresis_area = Hysteresis_Area\n",
    "#hyst_df.to_csv(path_or_buf='/Users/scottmatthewssalmon/Desktop/github/CCFatigue/Outputs/Vahid_hystarea.csv', index=False)\n",
    "\n"
   ]
  },
  {
   "cell_type": "code",
   "execution_count": null,
   "metadata": {},
   "outputs": [],
   "source": []
  },
  {
   "cell_type": "code",
   "execution_count": 8,
   "metadata": {},
   "outputs": [],
   "source": [
    "### Stiffness computation\n",
    "\n",
    "\n",
    "Stress_max = [np.max(Stress_N[i]) for i in range(1,len(n_cycles))]\n",
    "Stress_min = [np.min(Stress_N[i]) for i in range(1,len(n_cycles))]\n",
    "Strain_max = [np.max(Strain_N[i]) for i in range(1,len(n_cycles))]\n",
    "Strain_min = [np.min(Strain_N[i]) for i in range(1,len(n_cycles))]\n",
    "                    \n",
    "Stiffness = []\n",
    "\n",
    "for i in range(len(n_cycles)-1):\n",
    "    dStress = Stress_max[i]-Stress_min[i]\n",
    "    dStrain = Strain_max[i]-Strain_min[i]\n",
    "    Stiffness.append(dStress/dStrain)\n",
    "\n",
    "Stiffness.append(1)    \n",
    "hyst_df.stiffness = Stiffness\n",
    "#stif_df.to_csv(path_or_buf='/Users/scottmatthewssalmon/Desktop/github/CCFatigue/Outputs/Vahid_stiff.csv', index=False)"
   ]
  },
  {
   "cell_type": "code",
   "execution_count": 9,
   "metadata": {},
   "outputs": [
    {
     "name": "stdout",
     "output_type": "stream",
     "text": [
      "      hysteresis_area     stiffness   n_cycles\n",
      "0            0.000000  43687.822473        NaN\n",
      "1            0.000401  29217.481622        1.0\n",
      "2            0.001224  27391.381050     1000.0\n",
      "3            0.001222  25264.809740     2000.0\n",
      "4            0.003683  23663.124346     3000.0\n",
      "...               ...           ...        ...\n",
      "1194         0.032850   6937.089743  1193000.0\n",
      "1195         0.035368   6698.079021  1194000.0\n",
      "1196         0.033975   6566.353163  1195000.0\n",
      "1197         0.033212   6331.946706  1196000.0\n",
      "1198         0.032153      1.000000  1197000.0\n",
      "\n",
      "[1199 rows x 3 columns]\n"
     ]
    }
   ],
   "source": [
    "print(hyst_df)"
   ]
  },
  {
   "cell_type": "code",
   "execution_count": 10,
   "metadata": {},
   "outputs": [],
   "source": [
    "hyst_df.to_csv(path_or_buf='/Users/scottmatthewssalmon/Desktop/github/CCFatigue/Outputs/Vahid_hysteresis_analysis.csv', index=False)\n"
   ]
  },
  {
   "cell_type": "code",
   "execution_count": null,
   "metadata": {},
   "outputs": [],
   "source": []
  }
 ],
 "metadata": {
  "kernelspec": {
   "display_name": "Python 3",
   "language": "python",
   "name": "python3"
  },
  "language_info": {
   "codemirror_mode": {
    "name": "ipython",
    "version": 3
   },
   "file_extension": ".py",
   "mimetype": "text/x-python",
   "name": "python",
   "nbconvert_exporter": "python",
   "pygments_lexer": "ipython3",
   "version": "3.7.4"
  }
 },
 "nbformat": 4,
 "nbformat_minor": 2
}
