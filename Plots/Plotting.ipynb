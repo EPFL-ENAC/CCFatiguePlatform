{
 "cells": [
  {
   "cell_type": "code",
   "execution_count": 1,
   "metadata": {},
   "outputs": [],
   "source": [
    "import matplotlib.pyplot as plt\n",
    "import os\n",
    "import pandas as pd\n",
    "import numpy as np\n",
    "from bokeh.plotting import figure\n",
    "from bokeh.io import export_png, output_file, show\n",
    "from bokeh.models import ColumnDataSource, HoverTool\n",
    "#from bokeh.sampledata.stocks import AAPL"
   ]
  },
  {
   "cell_type": "code",
   "execution_count": 2,
   "metadata": {
    "scrolled": true
   },
   "outputs": [
    {
     "name": "stdout",
     "output_type": "stream",
     "text": [
      "       Machine_Displacement  Machine_N_cycles  DIC_index  DIC_N_cycles  \\\n",
      "0                  0.001037               1.0        NaN           NaN   \n",
      "1                  0.001262               1.0        NaN           NaN   \n",
      "2                  0.001392               1.0        NaN           NaN   \n",
      "3                  0.001506               1.0        NaN           NaN   \n",
      "4                  0.001541               1.0        NaN           NaN   \n",
      "...                     ...               ...        ...           ...   \n",
      "29895              0.009387         1197000.0        NaN           NaN   \n",
      "29896              0.009945         1197000.0        NaN           NaN   \n",
      "29897              0.010576         1197000.0        NaN           NaN   \n",
      "29898              0.011272         1197000.0        NaN           NaN   \n",
      "29899              0.011516         1197000.0        NaN           NaN   \n",
      "\n",
      "       DIC_exy  DIC_exx  DIC_crack_length  Th_time  DIC_eyy  Th_specimen_max  \\\n",
      "0          NaN      NaN               NaN      NaN      NaN              NaN   \n",
      "1          NaN      NaN               NaN      NaN      NaN              NaN   \n",
      "2          NaN      NaN               NaN      NaN      NaN              NaN   \n",
      "3          NaN      NaN               NaN      NaN      NaN              NaN   \n",
      "4          NaN      NaN               NaN      NaN      NaN              NaN   \n",
      "...        ...      ...               ...      ...      ...              ...   \n",
      "29895      NaN      NaN               NaN      NaN      NaN              NaN   \n",
      "29896      NaN      NaN               NaN      NaN      NaN              NaN   \n",
      "29897      NaN      NaN               NaN      NaN      NaN              NaN   \n",
      "29898      NaN      NaN               NaN      NaN      NaN              NaN   \n",
      "29899      NaN      NaN               NaN      NaN      NaN              NaN   \n",
      "\n",
      "       Th_N_cycles  Th_specimen_mean  Th_uppergrips  Th_lowergrips  \\\n",
      "0              NaN               NaN            NaN            NaN   \n",
      "1              NaN               NaN            NaN            NaN   \n",
      "2              NaN               NaN            NaN            NaN   \n",
      "3              NaN               NaN            NaN            NaN   \n",
      "4              NaN               NaN            NaN            NaN   \n",
      "...            ...               ...            ...            ...   \n",
      "29895          NaN               NaN            NaN            NaN   \n",
      "29896          NaN               NaN            NaN            NaN   \n",
      "29897          NaN               NaN            NaN            NaN   \n",
      "29898          NaN               NaN            NaN            NaN   \n",
      "29899          NaN               NaN            NaN            NaN   \n",
      "\n",
      "       Machine_Load  Th_chamber  \n",
      "0         30.061123         NaN  \n",
      "1         38.693064         NaN  \n",
      "2         42.299560         NaN  \n",
      "3         44.900967         NaN  \n",
      "4         46.792899         NaN  \n",
      "...             ...         ...  \n",
      "29895     15.043910         NaN  \n",
      "29896     18.946021         NaN  \n",
      "29897     22.138657         NaN  \n",
      "29898     27.282348         NaN  \n",
      "29899     28.583051         NaN  \n",
      "\n",
      "[29900 rows x 16 columns]\n"
     ]
    }
   ],
   "source": [
    "## Inputs\n",
    "data_dir = '/Users/scottmatthewssalmon/Desktop/github/CCFatigue/Outputs'\n",
    "filename = 'Vahid_std.csv'\n",
    "filepath = os.path.join(data_dir,filename)\n",
    "\n",
    "df = pd.read_csv(filepath)\n",
    "print(df)"
   ]
  },
  {
   "cell_type": "markdown",
   "metadata": {},
   "source": [
    "## Plotting plot Stress - Strain\n",
    "\n",
    "def plot_stress_strain(df):\n",
    "    plt.figure(0, figsize = (10,7))\n",
    "    plt.title(\"Stress - Strain\")\n",
    "    plt.xlabel(\"Strain\")\n",
    "    plt.ylabel(\"Stress\")\n",
    "    plt.plot(df.Machine_Displacement, df.Machine_Load)\n",
    "    save_dir = '/Users/scottmatthewssalmon/Desktop/github/CCFatigue/saved_plots/Stress_strain.png'\n",
    "    plt.savefig(save_dir)\n",
    "print(plot_stress_strain(df))"
   ]
  },
  {
   "cell_type": "code",
   "execution_count": 3,
   "metadata": {},
   "outputs": [],
   "source": [
    "### Conditional plotting of hysteresis loops\n",
    "\n",
    "sub_hystloops_strain = []\n",
    "sub_hystloops_stress = []\n",
    "sub_hystloops_ncycles = []\n",
    "sub_index = [0, 1, 5, 10, 100, 200, 1000, 2000, 10000, 50000, 100000, 500000, 1000000]\n",
    "\n",
    "for i in range(len(df)):\n",
    "    for j in range(len(sub_index)):\n",
    "        if df.Machine_N_cycles[i] == sub_index[j]:\n",
    "            sub_hystloops_strain.append(df.Machine_Displacement[i])\n",
    "            sub_hystloops_stress.append(df.Machine_Load[i])\n",
    "            sub_hystloops_ncycles.append(df.Machine_N_cycles[i])\n"
   ]
  },
  {
   "cell_type": "code",
   "execution_count": 4,
   "metadata": {},
   "outputs": [
    {
     "name": "stdout",
     "output_type": "stream",
     "text": [
      "None\n"
     ]
    }
   ],
   "source": [
    "sub_hystloops = {'n_cycles': sub_hystloops_ncycles,\n",
    "                 'strain': sub_hystloops_strain,\n",
    "                 'stress': sub_hystloops_stress}\n",
    "\n",
    "def plot_select_stress_strain(df):\n",
    "    stressStrain = figure(title = 'Stress - Strain', plot_width=1200, plot_height=800, x_axis_label = \"Strain\", y_axis_label = \"Stress\")\n",
    "    stressStrain.add_tools(HoverTool(tooltips=[(\"Stress\", \"@stress\"), (\"Strain\", \"@strain\"), (\"Nb. cycles\", \"@n_cycles\")]))\n",
    "    stressStrain.line(x = 'strain', y = 'stress', source = ColumnDataSource(data = sub_hystloops))\n",
    "    show(stressStrain)\n",
    "    \n",
    "print(plot_select_stress_strain(df))"
   ]
  },
  {
   "cell_type": "code",
   "execution_count": 5,
   "metadata": {
    "scrolled": true
   },
   "outputs": [
    {
     "name": "stdout",
     "output_type": "stream",
     "text": [
      "       Machine_Displacement  Machine_N_cycles  DIC_index  DIC_N_cycles  \\\n",
      "0                  0.001037               1.0        NaN           NaN   \n",
      "1                  0.001262               1.0        NaN           NaN   \n",
      "2                  0.001392               1.0        NaN           NaN   \n",
      "3                  0.001506               1.0        NaN           NaN   \n",
      "4                  0.001541               1.0        NaN           NaN   \n",
      "...                     ...               ...        ...           ...   \n",
      "29895              0.009387         1197000.0        NaN           NaN   \n",
      "29896              0.009945         1197000.0        NaN           NaN   \n",
      "29897              0.010576         1197000.0        NaN           NaN   \n",
      "29898              0.011272         1197000.0        NaN           NaN   \n",
      "29899              0.011516         1197000.0        NaN           NaN   \n",
      "\n",
      "       DIC_exy  DIC_exx  DIC_crack_length  Th_time  DIC_eyy  Th_specimen_max  \\\n",
      "0          NaN      NaN               NaN      NaN      NaN              NaN   \n",
      "1          NaN      NaN               NaN      NaN      NaN              NaN   \n",
      "2          NaN      NaN               NaN      NaN      NaN              NaN   \n",
      "3          NaN      NaN               NaN      NaN      NaN              NaN   \n",
      "4          NaN      NaN               NaN      NaN      NaN              NaN   \n",
      "...        ...      ...               ...      ...      ...              ...   \n",
      "29895      NaN      NaN               NaN      NaN      NaN              NaN   \n",
      "29896      NaN      NaN               NaN      NaN      NaN              NaN   \n",
      "29897      NaN      NaN               NaN      NaN      NaN              NaN   \n",
      "29898      NaN      NaN               NaN      NaN      NaN              NaN   \n",
      "29899      NaN      NaN               NaN      NaN      NaN              NaN   \n",
      "\n",
      "       Th_N_cycles  Th_specimen_mean  Th_uppergrips  Th_lowergrips  \\\n",
      "0              NaN               NaN            NaN            NaN   \n",
      "1              NaN               NaN            NaN            NaN   \n",
      "2              NaN               NaN            NaN            NaN   \n",
      "3              NaN               NaN            NaN            NaN   \n",
      "4              NaN               NaN            NaN            NaN   \n",
      "...            ...               ...            ...            ...   \n",
      "29895          NaN               NaN            NaN            NaN   \n",
      "29896          NaN               NaN            NaN            NaN   \n",
      "29897          NaN               NaN            NaN            NaN   \n",
      "29898          NaN               NaN            NaN            NaN   \n",
      "29899          NaN               NaN            NaN            NaN   \n",
      "\n",
      "       Machine_Load  Th_chamber  \n",
      "0         30.061123         NaN  \n",
      "1         38.693064         NaN  \n",
      "2         42.299560         NaN  \n",
      "3         44.900967         NaN  \n",
      "4         46.792899         NaN  \n",
      "...             ...         ...  \n",
      "29895     15.043910         NaN  \n",
      "29896     18.946021         NaN  \n",
      "29897     22.138657         NaN  \n",
      "29898     27.282348         NaN  \n",
      "29899     28.583051         NaN  \n",
      "\n",
      "[29900 rows x 16 columns]\n"
     ]
    }
   ],
   "source": [
    "print(df)"
   ]
  },
  {
   "cell_type": "code",
   "execution_count": 6,
   "metadata": {
    "scrolled": false
   },
   "outputs": [
    {
     "name": "stdout",
     "output_type": "stream",
     "text": [
      "None\n"
     ]
    }
   ],
   "source": [
    "## Plotting Stress - Strain with Bokeh library\n",
    "\n",
    "total_strain = df.Machine_Displacement\n",
    "total_stress = df.Machine_Load\n",
    "\n",
    "\n",
    "total_stress_strain = {'strain': total_strain,\n",
    "             'stress': total_stress}\n",
    "\n",
    "def plot_total_stress_strain(df):\n",
    "    stress_strain = figure(title = 'Stress - Strain', plot_width=1200, plot_height=800, x_axis_label = \"Strain\", y_axis_label = \"Stress\")\n",
    "    stress_strain.add_tools(HoverTool(tooltips=[(\"Stress\", \"@stress\"), (\"Strain\", \"@strain\")]))\n",
    "    stress_strain.line(x = 'strain', y = 'stress', source = ColumnDataSource(data = total_stress_strain))\n",
    "    show(stress_strain)\n",
    "    \n",
    "print(plot_total_stress_strain(df))\n"
   ]
  },
  {
   "cell_type": "markdown",
   "metadata": {},
   "source": [
    "## Plotting plot Load curve\n",
    "\n",
    "def plot_Load_curve(df):\n",
    "    plt.figure(1,figsize = (10,7))\n",
    "    plt.title(\"Load curve\")\n",
    "    plt.xlabel(\"Number of cycles\")\n",
    "    plt.ylabel(\"Stress\")\n",
    "    plt.plot(df.Machine_N_cycles, df.Machine_Load)\n",
    "    save_dir = '/Users/scottmatthewssalmon/Desktop/github/CCFatigue/saved_plots/Load_curve.png'\n",
    "    plt.savefig(save_dir)\n",
    "print(plot_Load_curve(df))"
   ]
  },
  {
   "cell_type": "code",
   "execution_count": 7,
   "metadata": {},
   "outputs": [
    {
     "name": "stdout",
     "output_type": "stream",
     "text": [
      "None\n"
     ]
    }
   ],
   "source": [
    "def plot_Load_curve(df):\n",
    "    loadCurve = figure(title = 'Load curve', plot_width=1200, plot_height=800, x_axis_label = \"Number of cycles\", y_axis_label = \"Stress\")\n",
    "    loadCurve.line(df.Machine_N_cycles, df.Machine_Load)\n",
    "    show(loadCurve)\n",
    "    \n",
    "print(plot_Load_curve(df))"
   ]
  },
  {
   "cell_type": "code",
   "execution_count": 8,
   "metadata": {},
   "outputs": [],
   "source": [
    "#save_dir = '/Users/scottmatthewssalmon/Desktop/github/CCFatigue/saved_plots/Load_curve.png'\n",
    "\n",
    "#plt.savefig(save_dir)\n",
    "\n",
    "##function to save plots!"
   ]
  },
  {
   "cell_type": "markdown",
   "metadata": {},
   "source": [
    "## Plotting plot Strain - N_cycles\n",
    "\n",
    "def plot_Strain_evolution(df):\n",
    "    plt.figure(1, figsize = (10,7))\n",
    "    plt.title(\"Strain evolution with N cycles\")\n",
    "    plt.xlabel(\"Number of cycles\")\n",
    "    plt.ylabel(\"Strain\")\n",
    "    plt.plot(df.Machine_N_cycles, df.Machine_Displacement)\n",
    "    save_dir = '/Users/scottmatthewssalmon/Desktop/github/CCFatigue/saved_plots/Strain_curve.png'\n",
    "    plt.savefig(save_dir)\n",
    "print(plot_Strain_evolution(df))"
   ]
  },
  {
   "cell_type": "code",
   "execution_count": 9,
   "metadata": {},
   "outputs": [
    {
     "name": "stdout",
     "output_type": "stream",
     "text": [
      "None\n"
     ]
    }
   ],
   "source": [
    "def plot_Strain_envelope(df):\n",
    "    strainEnvelope = figure(title = 'Strain envelope', plot_width=1200, plot_height=800, x_axis_label = \"Number of cycles\", y_axis_label = \"Strain\")\n",
    "    strainEnvelope.line(df.Machine_N_cycles, df.Machine_Displacement)\n",
    "    show(strainEnvelope)\n",
    "    \n",
    "print(plot_Strain_envelope(df))"
   ]
  },
  {
   "cell_type": "code",
   "execution_count": null,
   "metadata": {},
   "outputs": [],
   "source": []
  },
  {
   "cell_type": "code",
   "execution_count": 10,
   "metadata": {},
   "outputs": [],
   "source": [
    "### Importing Hysteresis loops analysis file\n",
    "\n",
    "filename = 'Vahid_hysteresis_analysis.csv'\n",
    "filepath = os.path.join(data_dir, filename)\n",
    "\n",
    "hyst_df = pd.read_csv(filepath, sep = ',', header = 0)\n"
   ]
  },
  {
   "cell_type": "code",
   "execution_count": 11,
   "metadata": {},
   "outputs": [],
   "source": [
    "### Importing Hysteresis loops areas\n",
    "\n",
    "filename = 'Vahid_hystarea.csv'\n",
    "filepath = os.path.join(data_dir,filename)\n",
    "\n",
    "hystarea = pd.read_csv(filepath, sep='\\t',header=0)\n"
   ]
  },
  {
   "cell_type": "code",
   "execution_count": 12,
   "metadata": {},
   "outputs": [],
   "source": [
    "### Importing N_cycles without duplicates\n",
    "\n",
    "filename = 'Vahid_n_cycles.csv'\n",
    "filepath = os.path.join(data_dir,filename)\n",
    "\n",
    "n_cycles = pd.read_csv(filepath, sep='\\t',header=0)"
   ]
  },
  {
   "cell_type": "code",
   "execution_count": 13,
   "metadata": {},
   "outputs": [],
   "source": [
    "### Importing Stiffness values\n",
    "\n",
    "filename = 'Vahid_stiff.csv'\n",
    "filepath = os.path.join(data_dir,filename)\n",
    "\n",
    "stiffness = pd.read_csv(filepath, sep='\\t',header=0)"
   ]
  },
  {
   "cell_type": "code",
   "execution_count": 14,
   "metadata": {
    "scrolled": false
   },
   "outputs": [
    {
     "name": "stdout",
     "output_type": "stream",
     "text": [
      "None\n"
     ]
    }
   ],
   "source": [
    "### Creep envelope\n",
    "creep_strain = hyst_df.creep\n",
    "creep_n_cycles = hyst_df.n_cycles\n",
    "\n",
    "\n",
    "sub_creep = {'n_cycles': creep_n_cycles,\n",
    "             'creep': creep_strain}\n",
    "\n",
    "def plot_creep(hyst_df):\n",
    "    creep = figure(title = 'Creep evolution', plot_width=1200, plot_height=800, x_axis_label = \"N_cycles\", y_axis_label = \"Creep\")\n",
    "    creep.add_tools(HoverTool(tooltips=[(\"Creep\", \"@creep\"), (\"Nb. cycles\", \"@n_cycles\")]))\n",
    "    creep.line(x = 'n_cycles', y = 'creep', source = ColumnDataSource(data = sub_creep))\n",
    "    show(creep)\n",
    "    \n",
    "print(plot_creep(hyst_df))\n"
   ]
  },
  {
   "cell_type": "markdown",
   "metadata": {},
   "source": [
    "### Hysteresis loops area evolution plots\n",
    "\n",
    "def plot_hysteresis_area(hyst_df):\n",
    "    plt.figure(1, figsize = (10,7))\n",
    "    plt.title(\"Hysteresis loops area evolution\")\n",
    "    plt.xlabel(\"Number of cycles\")\n",
    "    plt.ylabel(\"Area\")\n",
    "    plt.plot(hyst_df.n_cycles, hyst_df.hysteresis_area)\n",
    "    save_dir = '/Users/scottmatthewssalmon/Desktop/github/CCFatigue/saved_plots/hysteresis_area_curve.png'\n",
    "    plt.savefig(save_dir)\n",
    "print(plot_hysteresis_area(hyst_df))"
   ]
  },
  {
   "cell_type": "code",
   "execution_count": 15,
   "metadata": {},
   "outputs": [
    {
     "name": "stdout",
     "output_type": "stream",
     "text": [
      "None\n"
     ]
    }
   ],
   "source": [
    "### Hysteresis area plot\n",
    "\n",
    "hyst_area = hyst_df.hysteresis_area\n",
    "hyst_n_cycles = hyst_df.n_cycles\n",
    "\n",
    "\n",
    "sub_hyst = {'n_cycles': hyst_n_cycles,\n",
    "             'area': hyst_area}\n",
    "\n",
    "def plot_hystarea(hyst_df):\n",
    "    area = figure(title = 'Hysteresis loop area evolution', plot_width=1200, plot_height=800, x_axis_label = \"N_cycles\", y_axis_label = \"Hysteresis area\")\n",
    "    area.add_tools(HoverTool(tooltips=[(\"area\", \"@area\"), (\"Nb. cycles\", \"@n_cycles\")]))\n",
    "    area.line(x = 'n_cycles', y = 'area', source = ColumnDataSource(data = sub_hyst))\n",
    "    show(area)\n",
    "    \n",
    "print(plot_hystarea(hyst_df))"
   ]
  },
  {
   "cell_type": "code",
   "execution_count": 16,
   "metadata": {},
   "outputs": [
    {
     "name": "stdout",
     "output_type": "stream",
     "text": [
      "0       0.000000\n",
      "1       0.000401\n",
      "2       0.001224\n",
      "3       0.001222\n",
      "4       0.003683\n",
      "          ...   \n",
      "1194    0.032850\n",
      "1195    0.035368\n",
      "1196    0.033975\n",
      "1197    0.033212\n",
      "1198    0.032153\n",
      "Name: hysteresis_area, Length: 1199, dtype: float64\n"
     ]
    }
   ],
   "source": [
    "print(hyst_area)"
   ]
  },
  {
   "cell_type": "markdown",
   "metadata": {},
   "source": [
    "def plot_stiffness(hyst_df):\n",
    "    plt.figure(1, figsize = (10,7))\n",
    "    plt.title(\"Stiffness evolution\")\n",
    "    plt.xlabel(\"Number of cycles\")\n",
    "    plt.ylabel(\"Stiffness\")\n",
    "    plt.plot(hyst_df.n_cycles, hyst_df.stiffness)\n",
    "    save_dir = '/Users/scottmatthewssalmon/Desktop/github/CCFatigue/saved_plots/stiffness.png'\n",
    "    plt.savefig(save_dir)\n",
    "print(plot_stiffness(hyst_df))"
   ]
  },
  {
   "cell_type": "code",
   "execution_count": 17,
   "metadata": {
    "scrolled": true
   },
   "outputs": [
    {
     "name": "stdout",
     "output_type": "stream",
     "text": [
      "None\n"
     ]
    }
   ],
   "source": [
    "### Stiffness evolution plot\n",
    "\n",
    "hyst_stiff = hyst_df.stiffness\n",
    "hyst_n_cycles = hyst_df.n_cycles\n",
    "\n",
    "\n",
    "sub_hyst = {'n_cycles': hyst_n_cycles,\n",
    "             'stiffness': hyst_stiff}\n",
    "\n",
    "\n",
    "def plot_stiffness(hyst_df):\n",
    "    stiff = figure(title = 'Stiffness evolution under cyclic loading', plot_width=1200, plot_height=800, x_axis_label = \"N_cycles\", y_axis_label = \"Stiffness\")\n",
    "    stiff.add_tools(HoverTool(tooltips=[(\"stiffness\", \"@stiffness\"), (\"Nb. cycles\", \"@n_cycles\")]))\n",
    "    stiff.line(x = 'n_cycles', y = 'stiffness', source = ColumnDataSource(data = sub_hyst))\n",
    "    show(stiff)\n",
    "    \n",
    "print(plot_stiffness(hyst_df))"
   ]
  },
  {
   "cell_type": "code",
   "execution_count": 18,
   "metadata": {},
   "outputs": [
    {
     "name": "stdout",
     "output_type": "stream",
     "text": [
      "       n_cycles  hysteresis_area     creep     stiffness\n",
      "0           NaN         0.000000  0.000570  43687.822473\n",
      "1           1.0         0.000401  0.000868  29217.481622\n",
      "2        1000.0         0.001224  0.000986  27391.381050\n",
      "3        2000.0         0.001222  0.001104  25264.809740\n",
      "4        3000.0         0.003683  0.001283  23663.124346\n",
      "...         ...              ...       ...           ...\n",
      "1194  1193000.0         0.032850  0.007110   6937.089743\n",
      "1195  1194000.0         0.035368  0.007252   6698.079021\n",
      "1196  1195000.0         0.033975  0.007650   6566.353163\n",
      "1197  1196000.0         0.033212  0.008375   6331.946706\n",
      "1198  1197000.0         0.032153  0.008375   6331.946706\n",
      "\n",
      "[1199 rows x 4 columns]\n"
     ]
    }
   ],
   "source": [
    "print(hyst_df)"
   ]
  },
  {
   "cell_type": "code",
   "execution_count": null,
   "metadata": {},
   "outputs": [],
   "source": []
  }
 ],
 "metadata": {
  "kernelspec": {
   "display_name": "Python 3",
   "language": "python",
   "name": "python3"
  },
  "language_info": {
   "codemirror_mode": {
    "name": "ipython",
    "version": 3
   },
   "file_extension": ".py",
   "mimetype": "text/x-python",
   "name": "python",
   "nbconvert_exporter": "python",
   "pygments_lexer": "ipython3",
   "version": "3.7.4"
  },
  "toc": {
   "base_numbering": 1,
   "nav_menu": {},
   "number_sections": true,
   "sideBar": true,
   "skip_h1_title": false,
   "title_cell": "Table of Contents",
   "title_sidebar": "Contents",
   "toc_cell": false,
   "toc_position": {},
   "toc_section_display": true,
   "toc_window_display": false
  }
 },
 "nbformat": 4,
 "nbformat_minor": 4
}
